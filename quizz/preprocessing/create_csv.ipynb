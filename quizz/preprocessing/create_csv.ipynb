{
 "cells": [
  {
   "cell_type": "code",
   "execution_count": 1,
   "id": "136b1a44",
   "metadata": {},
   "outputs": [],
   "source": [
    "import pandas as pd"
   ]
  },
  {
   "cell_type": "code",
   "execution_count": 2,
   "id": "4ee6d508",
   "metadata": {},
   "outputs": [
    {
     "data": {
      "text/plain": [
       "['Alice', 'Bob', 'Charlie']"
      ]
     },
     "execution_count": 2,
     "metadata": {},
     "output_type": "execute_result"
    }
   ],
   "source": [
    "def str_to_list(text):\n",
    "    text = text.split(',')\n",
    "    text_clean = []\n",
    "    for elem in text:\n",
    "        elem_clean = elem.strip()\n",
    "        text_clean.append(elem_clean)\n",
    "    return text_clean\n",
    "str_to_list(' Alice , Bob, Charlie ')"
   ]
  },
  {
   "cell_type": "code",
   "execution_count": 3,
   "id": "f3b4d342",
   "metadata": {},
   "outputs": [],
   "source": [
    "movies = pd.read_csv('movies.csv')"
   ]
  },
  {
   "cell_type": "code",
   "execution_count": 4,
   "id": "43ab10f8",
   "metadata": {},
   "outputs": [],
   "source": [
    "df = movies.dropna(axis='rows')"
   ]
  },
  {
   "cell_type": "code",
   "execution_count": 5,
   "id": "4f0d855c",
   "metadata": {},
   "outputs": [],
   "source": [
    "#df = df.sort_values(by = 'avg_vote', ascending=False) # select the 1000 ratings\n",
    "#df = df[0:1000]\n",
    "#df.head()"
   ]
  },
  {
   "cell_type": "code",
   "execution_count": 6,
   "id": "ac7bf439",
   "metadata": {},
   "outputs": [
    {
     "data": {
      "text/plain": [
       "(33432, 12)"
      ]
     },
     "execution_count": 6,
     "metadata": {},
     "output_type": "execute_result"
    }
   ],
   "source": [
    "df.shape"
   ]
  },
  {
   "cell_type": "code",
   "execution_count": 7,
   "id": "3212a2e0",
   "metadata": {},
   "outputs": [
    {
     "name": "stderr",
     "output_type": "stream",
     "text": [
      "/tmp/ipykernel_56402/3749916205.py:5: SettingWithCopyWarning: \n",
      "A value is trying to be set on a copy of a slice from a DataFrame.\n",
      "Try using .loc[row_indexer,col_indexer] = value instead\n",
      "\n",
      "See the caveats in the documentation: https://pandas.pydata.org/pandas-docs/stable/user_guide/indexing.html#returning-a-view-versus-a-copy\n",
      "  df['countries_s'] = countries_s\n"
     ]
    }
   ],
   "source": [
    "countries_s = []\n",
    "for row in range(df.shape[0]):\n",
    "    country = str_to_list(df.iloc[row, 5])\n",
    "    countries_s.append(country)\n",
    "df['countries_s'] = countries_s"
   ]
  },
  {
   "cell_type": "code",
   "execution_count": 8,
   "id": "77befad3",
   "metadata": {},
   "outputs": [
    {
     "name": "stderr",
     "output_type": "stream",
     "text": [
      "/tmp/ipykernel_56402/2426553324.py:5: SettingWithCopyWarning: \n",
      "A value is trying to be set on a copy of a slice from a DataFrame.\n",
      "Try using .loc[row_indexer,col_indexer] = value instead\n",
      "\n",
      "See the caveats in the documentation: https://pandas.pydata.org/pandas-docs/stable/user_guide/indexing.html#returning-a-view-versus-a-copy\n",
      "  df['directors_s'] = directors_s\n"
     ]
    }
   ],
   "source": [
    "directors_s = []\n",
    "for row in range(df.shape[0]):\n",
    "    director = str_to_list(df.iloc[row, 6])\n",
    "    directors_s.append(director)\n",
    "df['directors_s'] = directors_s"
   ]
  },
  {
   "cell_type": "code",
   "execution_count": 9,
   "id": "876e9382",
   "metadata": {},
   "outputs": [
    {
     "name": "stderr",
     "output_type": "stream",
     "text": [
      "/tmp/ipykernel_56402/3133106560.py:5: SettingWithCopyWarning: \n",
      "A value is trying to be set on a copy of a slice from a DataFrame.\n",
      "Try using .loc[row_indexer,col_indexer] = value instead\n",
      "\n",
      "See the caveats in the documentation: https://pandas.pydata.org/pandas-docs/stable/user_guide/indexing.html#returning-a-view-versus-a-copy\n",
      "  df['actors_s'] = actors_s\n"
     ]
    }
   ],
   "source": [
    "actors_s = []\n",
    "for row in range(df.shape[0]):\n",
    "    actor = str_to_list(df.iloc[row, 7])\n",
    "    actors_s.append(actor)\n",
    "df['actors_s'] = actors_s"
   ]
  },
  {
   "cell_type": "code",
   "execution_count": 10,
   "id": "11ec5cc0",
   "metadata": {},
   "outputs": [
    {
     "data": {
      "text/html": [
       "<div>\n",
       "<style scoped>\n",
       "    .dataframe tbody tr th:only-of-type {\n",
       "        vertical-align: middle;\n",
       "    }\n",
       "\n",
       "    .dataframe tbody tr th {\n",
       "        vertical-align: top;\n",
       "    }\n",
       "\n",
       "    .dataframe thead th {\n",
       "        text-align: right;\n",
       "    }\n",
       "</style>\n",
       "<table border=\"1\" class=\"dataframe\">\n",
       "  <thead>\n",
       "    <tr style=\"text-align: right;\">\n",
       "      <th></th>\n",
       "      <th>filmtv_id</th>\n",
       "      <th>title</th>\n",
       "      <th>year</th>\n",
       "      <th>genre</th>\n",
       "      <th>duration</th>\n",
       "      <th>country</th>\n",
       "      <th>directors</th>\n",
       "      <th>actors</th>\n",
       "      <th>avg_vote</th>\n",
       "      <th>critics_vote</th>\n",
       "      <th>public_vote</th>\n",
       "      <th>total_votes</th>\n",
       "      <th>countries_s</th>\n",
       "      <th>directors_s</th>\n",
       "      <th>actors_s</th>\n",
       "    </tr>\n",
       "  </thead>\n",
       "  <tbody>\n",
       "    <tr>\n",
       "      <th>1</th>\n",
       "      <td>3</td>\n",
       "      <td>18 anni tra una settimana</td>\n",
       "      <td>1991</td>\n",
       "      <td>Drama</td>\n",
       "      <td>98</td>\n",
       "      <td>Italy</td>\n",
       "      <td>Luigi Perelli</td>\n",
       "      <td>Kim Rossi Stuart, Simona Cavallari, Ennio Fant...</td>\n",
       "      <td>6.5</td>\n",
       "      <td>6.00</td>\n",
       "      <td>7.0</td>\n",
       "      <td>4</td>\n",
       "      <td>[Italy]</td>\n",
       "      <td>[Luigi Perelli]</td>\n",
       "      <td>[Kim Rossi Stuart, Simona Cavallari, Ennio Fan...</td>\n",
       "    </tr>\n",
       "    <tr>\n",
       "      <th>2</th>\n",
       "      <td>17</td>\n",
       "      <td>Ride a Wild Pony</td>\n",
       "      <td>1976</td>\n",
       "      <td>Romantic</td>\n",
       "      <td>91</td>\n",
       "      <td>United States</td>\n",
       "      <td>Don Chaffey</td>\n",
       "      <td>Michael Craig, John Meillon, Eva Griffith, Gra...</td>\n",
       "      <td>5.6</td>\n",
       "      <td>6.00</td>\n",
       "      <td>5.0</td>\n",
       "      <td>9</td>\n",
       "      <td>[United States]</td>\n",
       "      <td>[Don Chaffey]</td>\n",
       "      <td>[Michael Craig, John Meillon, Eva Griffith, Gr...</td>\n",
       "    </tr>\n",
       "    <tr>\n",
       "      <th>3</th>\n",
       "      <td>18</td>\n",
       "      <td>Diner</td>\n",
       "      <td>1982</td>\n",
       "      <td>Comedy</td>\n",
       "      <td>95</td>\n",
       "      <td>United States</td>\n",
       "      <td>Barry Levinson</td>\n",
       "      <td>Mickey Rourke, Steve Guttenberg, Ellen Barkin,...</td>\n",
       "      <td>7.0</td>\n",
       "      <td>8.00</td>\n",
       "      <td>6.0</td>\n",
       "      <td>18</td>\n",
       "      <td>[United States]</td>\n",
       "      <td>[Barry Levinson]</td>\n",
       "      <td>[Mickey Rourke, Steve Guttenberg, Ellen Barkin...</td>\n",
       "    </tr>\n",
       "    <tr>\n",
       "      <th>4</th>\n",
       "      <td>20</td>\n",
       "      <td>A che servono questi quattrini?</td>\n",
       "      <td>1942</td>\n",
       "      <td>Comedy</td>\n",
       "      <td>85</td>\n",
       "      <td>Italy</td>\n",
       "      <td>Esodo Pratelli</td>\n",
       "      <td>Eduardo De Filippo, Peppino De Filippo, Clelia...</td>\n",
       "      <td>5.9</td>\n",
       "      <td>5.33</td>\n",
       "      <td>7.0</td>\n",
       "      <td>15</td>\n",
       "      <td>[Italy]</td>\n",
       "      <td>[Esodo Pratelli]</td>\n",
       "      <td>[Eduardo De Filippo, Peppino De Filippo, Cleli...</td>\n",
       "    </tr>\n",
       "    <tr>\n",
       "      <th>5</th>\n",
       "      <td>21</td>\n",
       "      <td>The Uranian Conspiracy</td>\n",
       "      <td>1978</td>\n",
       "      <td>Spy</td>\n",
       "      <td>117</td>\n",
       "      <td>Italy, Germany, Israel</td>\n",
       "      <td>Gianfranco Baldanello, Menahem Golan</td>\n",
       "      <td>Fabio Testi, Janet Agren, Assaf Dayan, Siegfri...</td>\n",
       "      <td>4.8</td>\n",
       "      <td>3.50</td>\n",
       "      <td>6.0</td>\n",
       "      <td>3</td>\n",
       "      <td>[Italy, Germany, Israel]</td>\n",
       "      <td>[Gianfranco Baldanello, Menahem Golan]</td>\n",
       "      <td>[Fabio Testi, Janet Agren, Assaf Dayan, Siegfr...</td>\n",
       "    </tr>\n",
       "  </tbody>\n",
       "</table>\n",
       "</div>"
      ],
      "text/plain": [
       "   filmtv_id                            title  year     genre  duration  \\\n",
       "1          3        18 anni tra una settimana  1991     Drama        98   \n",
       "2         17                 Ride a Wild Pony  1976  Romantic        91   \n",
       "3         18                            Diner  1982    Comedy        95   \n",
       "4         20  A che servono questi quattrini?  1942    Comedy        85   \n",
       "5         21           The Uranian Conspiracy  1978       Spy       117   \n",
       "\n",
       "                  country                             directors  \\\n",
       "1                   Italy                         Luigi Perelli   \n",
       "2           United States                           Don Chaffey   \n",
       "3           United States                        Barry Levinson   \n",
       "4                   Italy                        Esodo Pratelli   \n",
       "5  Italy, Germany, Israel  Gianfranco Baldanello, Menahem Golan   \n",
       "\n",
       "                                              actors  avg_vote  critics_vote  \\\n",
       "1  Kim Rossi Stuart, Simona Cavallari, Ennio Fant...       6.5          6.00   \n",
       "2  Michael Craig, John Meillon, Eva Griffith, Gra...       5.6          6.00   \n",
       "3  Mickey Rourke, Steve Guttenberg, Ellen Barkin,...       7.0          8.00   \n",
       "4  Eduardo De Filippo, Peppino De Filippo, Clelia...       5.9          5.33   \n",
       "5  Fabio Testi, Janet Agren, Assaf Dayan, Siegfri...       4.8          3.50   \n",
       "\n",
       "   public_vote  total_votes               countries_s  \\\n",
       "1          7.0            4                   [Italy]   \n",
       "2          5.0            9           [United States]   \n",
       "3          6.0           18           [United States]   \n",
       "4          7.0           15                   [Italy]   \n",
       "5          6.0            3  [Italy, Germany, Israel]   \n",
       "\n",
       "                              directors_s  \\\n",
       "1                         [Luigi Perelli]   \n",
       "2                           [Don Chaffey]   \n",
       "3                        [Barry Levinson]   \n",
       "4                        [Esodo Pratelli]   \n",
       "5  [Gianfranco Baldanello, Menahem Golan]   \n",
       "\n",
       "                                            actors_s  \n",
       "1  [Kim Rossi Stuart, Simona Cavallari, Ennio Fan...  \n",
       "2  [Michael Craig, John Meillon, Eva Griffith, Gr...  \n",
       "3  [Mickey Rourke, Steve Guttenberg, Ellen Barkin...  \n",
       "4  [Eduardo De Filippo, Peppino De Filippo, Cleli...  \n",
       "5  [Fabio Testi, Janet Agren, Assaf Dayan, Siegfr...  "
      ]
     },
     "execution_count": 10,
     "metadata": {},
     "output_type": "execute_result"
    }
   ],
   "source": [
    "df.head()"
   ]
  },
  {
   "cell_type": "code",
   "execution_count": 11,
   "id": "77083f04",
   "metadata": {},
   "outputs": [],
   "source": [
    "list_countries = []\n",
    "for row in range(df.shape[0]):\n",
    "    countries = df.iloc[row, 12]\n",
    "    for country in countries:\n",
    "        if country != '' and country not in list_countries:\n",
    "            list_countries.append(country)\n",
    "list_countries = sorted(list_countries)"
   ]
  },
  {
   "cell_type": "code",
   "execution_count": 12,
   "id": "81a59ba7",
   "metadata": {},
   "outputs": [
    {
     "name": "stdout",
     "output_type": "stream",
     "text": [
      "['Afghanistan', 'Albania', 'Algeria', 'American Samoa', 'Angola', 'Argentina', 'Armenia', 'Australia', 'Austria', 'Azerbaijan', 'Bangladesh', 'Belarus', 'Belgium', 'Bhutan', 'Bolivia', 'Bosnia and Herzegovina', 'Botswana', 'Brazil', 'Bulgaria', 'Burkina Faso', 'Cambodia', 'Cameroon', 'Canada', 'Chad', 'Chile', 'China', 'Colombia', 'Costa Rica', 'Croatia', 'Cuba', 'Cyprus', 'Czech Republic', 'Czechoslovakia', 'Denmark', 'Dominican Republic', 'East Germany', 'Ecuador', 'Egypt', 'England', 'Estonia', 'Ethiopia', 'Finland', 'France', 'Gabon', 'Georgia', 'Germany', 'Ghana', 'Gilbert and Ellice Islands', 'Great Britain', 'Greece', 'Greenland', 'Guatemala', 'Haiti', 'Hong Kong', 'Hungary', 'Iceland', 'India', 'Indonesia', 'Iran', 'Iraq', 'Ireland', 'Israel', 'Italy', 'Ivory Coast', 'Jamaica', 'Japan', 'Jordan', 'Kazakhstan', 'Kenya', 'Kosovo', 'Kuwait', 'Kyrgyzstan', 'Laos', 'Latvia', 'Lebanon', 'Libya', 'Liechtenstein', 'Lithuania', 'Luxembourg', 'Macau', 'Macedonia', 'Malaysia', 'Mali', 'Malta', 'Mauritania', 'Mexico', 'Mongolia', 'Montenegro', 'Morocco', 'Nepal', 'Netherlands', 'Netherlands Antilles', 'New Zealand', 'Nicaragua', 'Nigeria', 'Norway', 'Pakistan', 'Palestine', 'Panama', 'Paraguay', 'Peru', 'Philippines', 'Poland', 'Portugal', 'Principality of Monaco', 'Puerto Rico', 'Qatar', 'Romania', 'Russia', 'Rwanda', 'Saudi Arabia', 'Senegal', 'Serbia', 'Singapore', 'Slovakia', 'Slovenia', 'South Africa', 'South Korea', 'Soviet Union', 'Spain', 'Sri Lanka', 'Sudan', 'Sweden', 'Switzerland', 'Syria', 'Taiwan', 'Tajikistan', 'Thailand', 'Tunisia', 'Turkey', 'Ukraine', 'United Arab Emirates', 'United Kingdom', 'United States', 'Uruguay', 'Uzbekistan', 'Venezuela', 'Vietnam', 'West Germany', 'Yemen', 'Yugoslavia']\n"
     ]
    }
   ],
   "source": [
    "print(list_countries)"
   ]
  },
  {
   "cell_type": "code",
   "execution_count": 13,
   "id": "1eb31b53",
   "metadata": {},
   "outputs": [
    {
     "name": "stdout",
     "output_type": "stream",
     "text": [
      "141\n"
     ]
    },
    {
     "data": {
      "text/html": [
       "<div>\n",
       "<style scoped>\n",
       "    .dataframe tbody tr th:only-of-type {\n",
       "        vertical-align: middle;\n",
       "    }\n",
       "\n",
       "    .dataframe tbody tr th {\n",
       "        vertical-align: top;\n",
       "    }\n",
       "\n",
       "    .dataframe thead th {\n",
       "        text-align: right;\n",
       "    }\n",
       "</style>\n",
       "<table border=\"1\" class=\"dataframe\">\n",
       "  <thead>\n",
       "    <tr style=\"text-align: right;\">\n",
       "      <th></th>\n",
       "      <th>id</th>\n",
       "      <th>name</th>\n",
       "    </tr>\n",
       "  </thead>\n",
       "  <tbody>\n",
       "    <tr>\n",
       "      <th>0</th>\n",
       "      <td>1</td>\n",
       "      <td>Afghanistan</td>\n",
       "    </tr>\n",
       "    <tr>\n",
       "      <th>1</th>\n",
       "      <td>2</td>\n",
       "      <td>Albania</td>\n",
       "    </tr>\n",
       "    <tr>\n",
       "      <th>2</th>\n",
       "      <td>3</td>\n",
       "      <td>Algeria</td>\n",
       "    </tr>\n",
       "    <tr>\n",
       "      <th>3</th>\n",
       "      <td>4</td>\n",
       "      <td>American Samoa</td>\n",
       "    </tr>\n",
       "    <tr>\n",
       "      <th>4</th>\n",
       "      <td>5</td>\n",
       "      <td>Angola</td>\n",
       "    </tr>\n",
       "  </tbody>\n",
       "</table>\n",
       "</div>"
      ],
      "text/plain": [
       "   id            name\n",
       "0   1     Afghanistan\n",
       "1   2         Albania\n",
       "2   3         Algeria\n",
       "3   4  American Samoa\n",
       "4   5          Angola"
      ]
     },
     "execution_count": 13,
     "metadata": {},
     "output_type": "execute_result"
    }
   ],
   "source": [
    "countries = pd.DataFrame()\n",
    "list_ids = [id+1 for id in range(len(list_countries))]\n",
    "countries['id'] = list_ids\n",
    "countries['name'] = list_countries\n",
    "print(len(countries))\n",
    "countries.head()"
   ]
  },
  {
   "cell_type": "code",
   "execution_count": 14,
   "id": "a8d824f4",
   "metadata": {},
   "outputs": [],
   "source": [
    "list_directors = []\n",
    "for row in range(df.shape[0]):\n",
    "    directors = df.iloc[row, 13]\n",
    "    for director in directors:\n",
    "        if director != '' and director not in list_directors:\n",
    "            list_directors.append(director)\n",
    "list_directors = sorted(list_directors)"
   ]
  },
  {
   "cell_type": "code",
   "execution_count": 15,
   "id": "f5e1d5ff",
   "metadata": {},
   "outputs": [
    {
     "name": "stdout",
     "output_type": "stream",
     "text": [
      "11651\n"
     ]
    },
    {
     "data": {
      "text/html": [
       "<div>\n",
       "<style scoped>\n",
       "    .dataframe tbody tr th:only-of-type {\n",
       "        vertical-align: middle;\n",
       "    }\n",
       "\n",
       "    .dataframe tbody tr th {\n",
       "        vertical-align: top;\n",
       "    }\n",
       "\n",
       "    .dataframe thead th {\n",
       "        text-align: right;\n",
       "    }\n",
       "</style>\n",
       "<table border=\"1\" class=\"dataframe\">\n",
       "  <thead>\n",
       "    <tr style=\"text-align: right;\">\n",
       "      <th></th>\n",
       "      <th>id</th>\n",
       "      <th>name</th>\n",
       "    </tr>\n",
       "  </thead>\n",
       "  <tbody>\n",
       "    <tr>\n",
       "      <th>0</th>\n",
       "      <td>1</td>\n",
       "      <td>A. Edward Sutherland</td>\n",
       "    </tr>\n",
       "    <tr>\n",
       "      <th>1</th>\n",
       "      <td>2</td>\n",
       "      <td>A.B. Shawky</td>\n",
       "    </tr>\n",
       "    <tr>\n",
       "      <th>2</th>\n",
       "      <td>3</td>\n",
       "      <td>A.B. Stone</td>\n",
       "    </tr>\n",
       "    <tr>\n",
       "      <th>3</th>\n",
       "      <td>4</td>\n",
       "      <td>A.D. Calvo</td>\n",
       "    </tr>\n",
       "    <tr>\n",
       "      <th>4</th>\n",
       "      <td>5</td>\n",
       "      <td>A.J. Edwards</td>\n",
       "    </tr>\n",
       "    <tr>\n",
       "      <th>...</th>\n",
       "      <td>...</td>\n",
       "      <td>...</td>\n",
       "    </tr>\n",
       "    <tr>\n",
       "      <th>9995</th>\n",
       "      <td>9996</td>\n",
       "      <td>Sarah Kernochan</td>\n",
       "    </tr>\n",
       "    <tr>\n",
       "      <th>9996</th>\n",
       "      <td>9997</td>\n",
       "      <td>Sarah Kruchowski</td>\n",
       "    </tr>\n",
       "    <tr>\n",
       "      <th>9997</th>\n",
       "      <td>9998</td>\n",
       "      <td>Sarah Polley</td>\n",
       "    </tr>\n",
       "    <tr>\n",
       "      <th>9998</th>\n",
       "      <td>9999</td>\n",
       "      <td>Sarah Robertson</td>\n",
       "    </tr>\n",
       "    <tr>\n",
       "      <th>9999</th>\n",
       "      <td>10000</td>\n",
       "      <td>Sarah Suco</td>\n",
       "    </tr>\n",
       "  </tbody>\n",
       "</table>\n",
       "<p>10000 rows × 2 columns</p>\n",
       "</div>"
      ],
      "text/plain": [
       "         id                  name\n",
       "0         1  A. Edward Sutherland\n",
       "1         2           A.B. Shawky\n",
       "2         3            A.B. Stone\n",
       "3         4            A.D. Calvo\n",
       "4         5          A.J. Edwards\n",
       "...     ...                   ...\n",
       "9995   9996       Sarah Kernochan\n",
       "9996   9997      Sarah Kruchowski\n",
       "9997   9998          Sarah Polley\n",
       "9998   9999       Sarah Robertson\n",
       "9999  10000            Sarah Suco\n",
       "\n",
       "[10000 rows x 2 columns]"
      ]
     },
     "execution_count": 15,
     "metadata": {},
     "output_type": "execute_result"
    }
   ],
   "source": [
    "directors = pd.DataFrame()\n",
    "list_ids = [id+1 for id in range(len(list_directors))]\n",
    "directors['id'] = list_ids\n",
    "directors['name'] = list_directors\n",
    "print(len(directors))\n",
    "directors.head(10000)"
   ]
  },
  {
   "cell_type": "code",
   "execution_count": 16,
   "id": "d43dea4c",
   "metadata": {},
   "outputs": [],
   "source": [
    "list_actors = []\n",
    "for row in range(df.shape[0]):\n",
    "    actors = df.iloc[row, 14]\n",
    "    for actor in actors:\n",
    "        if actor != '' and actor not in list_actors:\n",
    "            list_actors.append(actor)\n",
    "list_actors = sorted(list_actors)"
   ]
  },
  {
   "cell_type": "code",
   "execution_count": 17,
   "id": "79df3ec0",
   "metadata": {},
   "outputs": [
    {
     "name": "stdout",
     "output_type": "stream",
     "text": [
      "82785\n"
     ]
    },
    {
     "data": {
      "text/html": [
       "<div>\n",
       "<style scoped>\n",
       "    .dataframe tbody tr th:only-of-type {\n",
       "        vertical-align: middle;\n",
       "    }\n",
       "\n",
       "    .dataframe tbody tr th {\n",
       "        vertical-align: top;\n",
       "    }\n",
       "\n",
       "    .dataframe thead th {\n",
       "        text-align: right;\n",
       "    }\n",
       "</style>\n",
       "<table border=\"1\" class=\"dataframe\">\n",
       "  <thead>\n",
       "    <tr style=\"text-align: right;\">\n",
       "      <th></th>\n",
       "      <th>id</th>\n",
       "      <th>name</th>\n",
       "    </tr>\n",
       "  </thead>\n",
       "  <tbody>\n",
       "    <tr>\n",
       "      <th>0</th>\n",
       "      <td>1</td>\n",
       "      <td>'Chiyaan' Vikram</td>\n",
       "    </tr>\n",
       "    <tr>\n",
       "      <th>1</th>\n",
       "      <td>2</td>\n",
       "      <td>'Kecske' Molnár Levente</td>\n",
       "    </tr>\n",
       "    <tr>\n",
       "      <th>2</th>\n",
       "      <td>3</td>\n",
       "      <td>'Legs' Larry Smith</td>\n",
       "    </tr>\n",
       "    <tr>\n",
       "      <th>3</th>\n",
       "      <td>4</td>\n",
       "      <td>'Magic' Matt Alan</td>\n",
       "    </tr>\n",
       "    <tr>\n",
       "      <th>4</th>\n",
       "      <td>5</td>\n",
       "      <td>'Tommy' Haynes</td>\n",
       "    </tr>\n",
       "    <tr>\n",
       "      <th>...</th>\n",
       "      <td>...</td>\n",
       "      <td>...</td>\n",
       "    </tr>\n",
       "    <tr>\n",
       "      <th>79995</th>\n",
       "      <td>79996</td>\n",
       "      <td>Víctor Duplá</td>\n",
       "    </tr>\n",
       "    <tr>\n",
       "      <th>79996</th>\n",
       "      <td>79997</td>\n",
       "      <td>Víctor García</td>\n",
       "    </tr>\n",
       "    <tr>\n",
       "      <th>79997</th>\n",
       "      <td>79998</td>\n",
       "      <td>Víctor Hugo Carrizo</td>\n",
       "    </tr>\n",
       "    <tr>\n",
       "      <th>79998</th>\n",
       "      <td>79999</td>\n",
       "      <td>Víctor Israel</td>\n",
       "    </tr>\n",
       "    <tr>\n",
       "      <th>79999</th>\n",
       "      <td>80000</td>\n",
       "      <td>Víctor Manuel Pajares</td>\n",
       "    </tr>\n",
       "  </tbody>\n",
       "</table>\n",
       "<p>80000 rows × 2 columns</p>\n",
       "</div>"
      ],
      "text/plain": [
       "          id                     name\n",
       "0          1         'Chiyaan' Vikram\n",
       "1          2  'Kecske' Molnár Levente\n",
       "2          3       'Legs' Larry Smith\n",
       "3          4        'Magic' Matt Alan\n",
       "4          5           'Tommy' Haynes\n",
       "...      ...                      ...\n",
       "79995  79996             Víctor Duplá\n",
       "79996  79997            Víctor García\n",
       "79997  79998      Víctor Hugo Carrizo\n",
       "79998  79999            Víctor Israel\n",
       "79999  80000    Víctor Manuel Pajares\n",
       "\n",
       "[80000 rows x 2 columns]"
      ]
     },
     "execution_count": 17,
     "metadata": {},
     "output_type": "execute_result"
    }
   ],
   "source": [
    "actors = pd.DataFrame()\n",
    "list_ids = [id+1 for id in range(len(list_actors))]\n",
    "actors['id'] = list_ids\n",
    "actors['name'] = list_actors\n",
    "print(len(actors))\n",
    "actors.head(80000)"
   ]
  },
  {
   "cell_type": "code",
   "execution_count": null,
   "id": "b63adc2c",
   "metadata": {},
   "outputs": [],
   "source": [
    "columns = ['movie_id', 'actor_id']\n",
    "play = pd.DataFrame(columns = columns)\n",
    "nb_rows = df.shape[0]\n",
    "for row in range(nb_rows):\n",
    "    # if row %1000 == 0:\n",
    "    #    print(row)\n",
    "    actors_names = df.iloc[row, 14]\n",
    "    small_df = pd.DataFrame(columns = columns)\n",
    "    movie_id = df.iloc[row, 0]\n",
    "    actor_ids = []\n",
    "    for actor in actors_names:\n",
    "        actor_ids.append(int(actors[actors.name == actor].id))\n",
    "    small_df['movie_id'] = [movie_id for _ in range(len(actors_names))]\n",
    "    small_df['actor_id'] = actor_ids\n",
    "    play = pd.concat([play, small_df])"
   ]
  },
  {
   "cell_type": "code",
   "execution_count": null,
   "id": "39ae7675",
   "metadata": {},
   "outputs": [],
   "source": [
    "print(play.shape[0])\n",
    "play.head(1000)"
   ]
  },
  {
   "cell_type": "code",
   "execution_count": null,
   "id": "bfac7ad4",
   "metadata": {},
   "outputs": [],
   "source": [
    "columns = ['movie_id', 'director_id']\n",
    "manage = pd.DataFrame(columns = columns)\n",
    "nb_rows = df.shape[0]\n",
    "for row in range(nb_rows):\n",
    "    directors_names = df.iloc[row, 13]\n",
    "    small_df = pd.DataFrame(columns = columns)\n",
    "    movie_id = df.iloc[row, 0]\n",
    "    director_ids = []\n",
    "    for director in directors_names:\n",
    "        director_ids.append(int(directors[directors.name == director].id))\n",
    "    small_df['movie_id'] = [movie_id for _ in range(len(directors_names))]\n",
    "    small_df['director_id'] = director_ids\n",
    "    manage = pd.concat([manage, small_df])"
   ]
  },
  {
   "cell_type": "code",
   "execution_count": null,
   "id": "450f132d",
   "metadata": {},
   "outputs": [],
   "source": [
    "print(manage.shape[0])\n",
    "manage.head(20)"
   ]
  },
  {
   "cell_type": "code",
   "execution_count": null,
   "id": "ef5649f4",
   "metadata": {},
   "outputs": [],
   "source": [
    "columns = ['movie_id', 'country_id']\n",
    "come_from = pd.DataFrame(columns = columns)\n",
    "nb_rows = df.shape[0]\n",
    "for row in range(nb_rows):\n",
    "    countries_names = df.iloc[row, 12]\n",
    "    small_df = pd.DataFrame(columns = columns)\n",
    "    movie_id = df.iloc[row, 0]\n",
    "    countries_ids = []\n",
    "    for country in countries_names:\n",
    "        countries_ids.append(int(countries[countries.name == country].id))\n",
    "    small_df['movie_id'] = [movie_id for _ in range(len(countries_names))]\n",
    "    small_df['country_id'] = countries_ids\n",
    "    come_from = pd.concat([come_from, small_df])"
   ]
  },
  {
   "cell_type": "code",
   "execution_count": null,
   "id": "3c934bb9",
   "metadata": {},
   "outputs": [],
   "source": [
    "print(come_from.shape[0])\n",
    "come_from.head(20)"
   ]
  },
  {
   "cell_type": "code",
   "execution_count": null,
   "id": "d9b92a43",
   "metadata": {},
   "outputs": [],
   "source": [
    "columns = ['filmtv_id', 'title', 'year', 'genre', 'duration', 'avg_vote', 'critics_vote', 'public_vote', 'total_votes']\n",
    "movies = df[columns]\n",
    "movies.columns = ['movie_id', 'title', 'year', 'genre', 'duration', 'avg_vote', 'critics_vote', 'public_vote', 'total_votes']\n",
    "movies.head(100)"
   ]
  },
  {
   "cell_type": "code",
   "execution_count": null,
   "id": "cbba4ba8",
   "metadata": {},
   "outputs": [],
   "source": [
    "movies.to_csv('table_movies.csv', index=False)\n",
    "actors.to_csv('table_actors.csv', index=False)\n",
    "directors.to_csv('table_directors.csv', index=False)\n",
    "countries.to_csv('table_countries.csv', index=False)\n",
    "play.to_csv('table_play.csv', index=False)\n",
    "manage.to_csv('table_manage.csv', index=False)\n",
    "come_from.to_csv('table_come_from.csv', index=False)"
   ]
  }
 ],
 "metadata": {
  "kernelspec": {
   "display_name": "Python 3 (ipykernel)",
   "language": "python",
   "name": "python3"
  },
  "language_info": {
   "codemirror_mode": {
    "name": "ipython",
    "version": 3
   },
   "file_extension": ".py",
   "mimetype": "text/x-python",
   "name": "python",
   "nbconvert_exporter": "python",
   "pygments_lexer": "ipython3",
   "version": "3.8.10"
  }
 },
 "nbformat": 4,
 "nbformat_minor": 5
}
